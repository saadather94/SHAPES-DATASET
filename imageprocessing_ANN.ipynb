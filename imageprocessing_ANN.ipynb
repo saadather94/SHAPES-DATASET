{
  "nbformat": 4,
  "nbformat_minor": 0,
  "metadata": {
    "colab": {
      "provenance": [],
      "authorship_tag": "ABX9TyPc4fVJh9KkIoua5xl0iJ70",
      "include_colab_link": true
    },
    "kernelspec": {
      "name": "python3",
      "display_name": "Python 3"
    },
    "language_info": {
      "name": "python"
    },
    "gpuClass": "standard",
    "accelerator": "GPU"
  },
  "cells": [
    {
      "cell_type": "markdown",
      "metadata": {
        "id": "view-in-github",
        "colab_type": "text"
      },
      "source": [
        "<a href=\"https://colab.research.google.com/github/saadather94/SHAPES-DATASET/blob/master/imageprocessing_ANN.ipynb\" target=\"_parent\"><img src=\"https://colab.research.google.com/assets/colab-badge.svg\" alt=\"Open In Colab\"/></a>"
      ]
    },
    {
      "cell_type": "code",
      "execution_count": 1,
      "metadata": {
        "id": "M1uF2Nu6-ECT"
      },
      "outputs": [],
      "source": [
        "import numpy as np\n",
        "import torch\n",
        "import torchvision\n",
        "import torch.nn as nn\n",
        "from torch.utils.data import random_split\n",
        "from torch.utils.data.dataloader import DataLoader\n",
        "import torch.nn.functional as F\n",
        "from torchvision.datasets import MNIST\n",
        "from torchvision.transforms import ToTensor"
      ]
    },
    {
      "cell_type": "code",
      "source": [
        "import os\n",
        "import pandas as pd\n",
        "from torch.utils.data import Dataset\n",
        "from skimage import io\n",
        "\n",
        "\n",
        "class ImageDataset(Dataset):\n",
        "\n",
        "  def __init__(self, csv_file, root_dir, transform=None):\n",
        "\n",
        "    self.annotations = pd.read_csv(csv_file)\n",
        "    self.root_dir = root_dir\n",
        "    self.transform = transform\n",
        "\n",
        "  def __len__(self):\n",
        "    return len(self.annotations)\n",
        "\n",
        "  def __getitem__(self, idx):\n",
        "\n",
        "    img_path = os.path.join(self.root_dir,self.annotations.iloc[idx, 0])\n",
        "    \n",
        "    image = io.imread(img_path)\n",
        "    y_label = torch.tensor(int(self.annotations.iloc[idx, 1]))\n",
        "\n",
        "\n",
        "    if self.transform:\n",
        "        image = self.transform(image)\n",
        "\n",
        "    return (image, y_label)"
      ],
      "metadata": {
        "id": "KJFM_aMnP_zg"
      },
      "execution_count": 19,
      "outputs": []
    },
    {
      "cell_type": "code",
      "source": [
        "\n",
        "\n",
        "#from data_set import ImageDataset\n",
        "\n",
        "\n",
        "dataset = ImageDataset(csv_file='/content/Data_set/Annotation.csv',root_dir='/content/Data_set/GreyIMG', transform= ToTensor() )\n",
        "\n",
        "\n",
        "train, val = random_split(dataset, [200, 100])"
      ],
      "metadata": {
        "id": "e2ML_DnGP_04"
      },
      "execution_count": 77,
      "outputs": []
    },
    {
      "cell_type": "code",
      "source": [
        "from matplotlib import pyplot as plt\n",
        "image, label = dataset[1]\n",
        "print('image.shape:', image.shape)\n",
        "#plt.imshow(image.permute(1,2,0), cmap='gray')\n",
        "print('Label:', label)"
      ],
      "metadata": {
        "colab": {
          "base_uri": "https://localhost:8080/"
        },
        "id": "qErHbBLEUw9p",
        "outputId": "4df3c919-eef2-47ea-f8d9-a0843875f594"
      },
      "execution_count": 89,
      "outputs": [
        {
          "output_type": "stream",
          "name": "stdout",
          "text": [
            "image.shape: torch.Size([1, 30, 30])\n",
            "Label: tensor(2)\n"
          ]
        }
      ]
    },
    {
      "cell_type": "code",
      "source": [
        "train_ldr = DataLoader(train, batch_size=8, shuffle=True, num_workers=3, pin_memory=True)\n",
        "val_ldr = DataLoader(val,batch_size=16, num_workers=3, pin_memory=True)"
      ],
      "metadata": {
        "id": "gUoc3lH9P___"
      },
      "execution_count": 79,
      "outputs": []
    },
    {
      "cell_type": "code",
      "source": [
        "from torchvision.utils import make_grid\n",
        "\n",
        "for images, _ in train_ldr:\n",
        "    print('images.shape:', images.shape)\n",
        "    print('label.shape:', _.shape)\n",
        "    plt.figure(figsize=(16,8))\n",
        "    plt.axis('off')\n",
        "    plt.imshow(make_grid(images, nrow=16).permute((1, 2, 0)))\n",
        "    break"
      ],
      "metadata": {
        "colab": {
          "base_uri": "https://localhost:8080/",
          "height": 184
        },
        "id": "iyyhEA_qh-nV",
        "outputId": "f07b93c6-d550-4759-8d05-dc85f3d5da61"
      },
      "execution_count": 85,
      "outputs": [
        {
          "output_type": "stream",
          "name": "stdout",
          "text": [
            "images.shape: torch.Size([8, 1, 30, 30])\n",
            "label.shape: torch.Size([8])\n"
          ]
        },
        {
          "output_type": "display_data",
          "data": {
            "text/plain": [
              "<Figure size 1152x576 with 1 Axes>"
            ],
            "image/png": "[encoded data removed]"
          },
          "metadata": {
            "needs_background": "light"
          }
        }
      ]
    },
    {
      "cell_type": "code",
      "source": [
        "for images, _ in train_ldr:\n",
        "    \n",
        "    print('images.shape:', images.shape)\n",
        "    inputs = images.reshape(-1, 900)\n",
        "    print('inputs.shape:', inputs.shape)\n",
        "    break"
      ],
      "metadata": {
        "colab": {
          "base_uri": "https://localhost:8080/"
        },
        "id": "bMIxo_kfUvGF",
        "outputId": "ff78073e-4651-48e5-f691-fbcf6a90911d"
      },
      "execution_count": 90,
      "outputs": [
        {
          "output_type": "stream",
          "name": "stdout",
          "text": [
            "images.shape: torch.Size([8, 1, 30, 30])\n",
            "inputs.shape: torch.Size([8, 900])\n"
          ]
        }
      ]
    },
    {
      "cell_type": "code",
      "source": [],
      "metadata": {
        "id": "E4BdeOGVUw-z"
      },
      "execution_count": null,
      "outputs": []
    },
    {
      "cell_type": "code",
      "source": [],
      "metadata": {
        "id": "m9Izf8QKUxBP"
      },
      "execution_count": null,
      "outputs": []
    },
    {
      "cell_type": "code",
      "source": [],
      "metadata": {
        "id": "cfBwkXzMUxCL"
      },
      "execution_count": null,
      "outputs": []
    },
    {
      "cell_type": "code",
      "source": [],
      "metadata": {
        "id": "SqAspGvVUxFL"
      },
      "execution_count": null,
      "outputs": []
    },
    {
      "cell_type": "code",
      "source": [],
      "metadata": {
        "id": "-S20OeD-UxGT"
      },
      "execution_count": null,
      "outputs": []
    },
    {
      "cell_type": "code",
      "source": [],
      "metadata": {
        "id": "KdvYFoh9UxKk"
      },
      "execution_count": null,
      "outputs": []
    },
    {
      "cell_type": "code",
      "source": [],
      "metadata": {
        "id": "247TT6SAQAGK"
      },
      "execution_count": 11,
      "outputs": []
    }
  ]
}